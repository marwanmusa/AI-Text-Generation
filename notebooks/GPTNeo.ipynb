{
 "cells": [
  {
   "cell_type": "code",
   "execution_count": 1,
   "metadata": {},
   "outputs": [],
   "source": [
    "# Import Dependencies\n",
    "from transformers import GPTNeoForCausalLM, GPT2Tokenizer\n",
    "import torch\n",
    "import warnings\n",
    "warnings.filterwarnings('ignore')"
   ]
  },
  {
   "cell_type": "code",
   "execution_count": null,
   "metadata": {},
   "outputs": [],
   "source": [
    "# Load Model\n",
    "model_name = 'EleutherAI/gpt-neo-2.7B'\n",
    "model = GPTNeoForCausalLM.from_pretrained(model_name, cache_dir = 'cache/')"
   ]
  },
  {
   "cell_type": "code",
   "execution_count": 5,
   "metadata": {},
   "outputs": [
    {
     "name": "stderr",
     "output_type": "stream",
     "text": [
      "d:\\MyFile\\AI-Text-Generation\\venv\\lib\\site-packages\\transformers\\generation\\utils.py:1201: UserWarning: You have modified the pretrained model configuration to control generation. This is a deprecated strategy to control generation and will be removed soon, in a future version. Please use a generation configuration file (see https://huggingface.co/docs/transformers/main_classes/text_generation)\n",
      "  warnings.warn(\n",
      "Setting `pad_token_id` to `eos_token_id`:50256 for open-end generation.\n"
     ]
    }
   ],
   "source": [
    "# Input Text to generator\n",
    "prompt = \"What is life\"\n",
    "res = generator(prompt, max_length=200, do_sample=True, temperature=0.9)"
   ]
  },
  {
   "cell_type": "code",
   "execution_count": 6,
   "metadata": {},
   "outputs": [
    {
     "name": "stdout",
     "output_type": "stream",
     "text": [
      "What is life? Is the answer the ultimate purpose which all things are striving to reach? For the philosopher who believes it, the answer is pretty obvious. But I suspect that most of us do not accept the existence of a God who provides all the answers to life’s central questions. So I think it is a good idea to ask the question and find out what the answer is. I will not ask the question as a philosopher, but as a human being: What is life?\n",
      "\n",
      "A friend of mine has spent 20 years of his life trying to find out what the answer is to life. He started by asking himself a central question. It is hard to say what this question is, but I took the liberty of adding a few words, that he thought were important. My hope is that other men will do the same thing.\n",
      "\n",
      "My question then is: Is there anything outside of life?\n",
      "\n",
      "Life’s Question: Who Am I? by George Grant\n"
     ]
    }
   ],
   "source": [
    "# Output result\n",
    "print(res[0]['generated_text'])"
   ]
  }
 ],
 "metadata": {
  "kernelspec": {
   "display_name": "venv",
   "language": "python",
   "name": "python3"
  },
  "language_info": {
   "codemirror_mode": {
    "name": "ipython",
    "version": 3
   },
   "file_extension": ".py",
   "mimetype": "text/x-python",
   "name": "python",
   "nbconvert_exporter": "python",
   "pygments_lexer": "ipython3",
   "version": "3.10.6"
  },
  "orig_nbformat": 4
 },
 "nbformat": 4,
 "nbformat_minor": 2
}
