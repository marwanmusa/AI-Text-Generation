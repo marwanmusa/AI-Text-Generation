{
 "cells": [
  {
   "cell_type": "code",
   "execution_count": 1,
   "metadata": {},
   "outputs": [
    {
     "name": "stderr",
     "output_type": "stream",
     "text": [
      "d:\\MyFile\\AI-Text-Generation\\venv\\lib\\site-packages\\tqdm\\auto.py:21: TqdmWarning: IProgress not found. Please update jupyter and ipywidgets. See https://ipywidgets.readthedocs.io/en/stable/user_install.html\n",
      "  from .autonotebook import tqdm as notebook_tqdm\n"
     ]
    }
   ],
   "source": [
    "# Import Dependencies\n",
    "from transformers import GPT2LMHeadModel, GPT2Tokenizer"
   ]
  },
  {
   "cell_type": "code",
   "execution_count": 2,
   "metadata": {},
   "outputs": [
    {
     "name": "stderr",
     "output_type": "stream",
     "text": [
      "Downloading (…)olve/main/vocab.json: 100%|██████████| 1.04M/1.04M [00:01<00:00, 614kB/s]\n",
      "d:\\MyFile\\AI-Text-Generation\\venv\\lib\\site-packages\\huggingface_hub\\file_download.py:133: UserWarning: `huggingface_hub` cache-system uses symlinks by default to efficiently store duplicated files but your machine does not support them in C:\\Users\\MarwanMM\\.cache\\huggingface\\hub. Caching files will still work but in a degraded version that might require more space on your disk. This warning can be disabled by setting the `HF_HUB_DISABLE_SYMLINKS_WARNING` environment variable. For more details, see https://huggingface.co/docs/huggingface_hub/how-to-cache#limitations.\n",
      "To support symlinks on Windows, you either need to activate Developer Mode or to run Python as an administrator. In order to see activate developer mode, see this article: https://docs.microsoft.com/en-us/windows/apps/get-started/enable-your-device-for-development\n",
      "  warnings.warn(message)\n",
      "Downloading (…)olve/main/merges.txt: 100%|██████████| 456k/456k [00:01<00:00, 384kB/s]\n",
      "Downloading (…)lve/main/config.json: 100%|██████████| 666/666 [00:00<00:00, 661kB/s]\n",
      "Downloading pytorch_model.bin: 100%|██████████| 3.25G/3.25G [10:56<00:00, 4.95MB/s]\n",
      "Downloading (…)neration_config.json: 100%|██████████| 124/124 [00:00<00:00, 120kB/s]\n"
     ]
    }
   ],
   "source": [
    "# Load Model\n",
    "tokenizer = GPT2Tokenizer.from_pretrained('gpt2-large')\n",
    "model = GPT2LMHeadModel.from_pretrained(\"gpt2-large\", pad_token_id=tokenizer.eos_token_id)"
   ]
  },
  {
   "cell_type": "code",
   "execution_count": 5,
   "metadata": {},
   "outputs": [],
   "source": [
    "# Tokenize Sentences\n",
    "sentence = \"What is life\"\n",
    "input_ids = tokenizer.encode(sentence, return_tensors='pt')"
   ]
  },
  {
   "cell_type": "code",
   "execution_count": 6,
   "metadata": {},
   "outputs": [],
   "source": [
    "# Generate and Decode Text\n",
    "output = model.generate(input_ids, max_length=100, num_beams=5, no_repeat_ngram_size=2, early_stopping=True)"
   ]
  },
  {
   "cell_type": "code",
   "execution_count": 7,
   "metadata": {},
   "outputs": [
    {
     "data": {
      "text/plain": [
       "tensor([[ 2061,   318,  1204,    30,   198,   198, 14662,   318,   257,  7002,\n",
       "            11,   407,   257, 10965,    13,   632,   338,   546,   262,  1310,\n",
       "          1243,   287,  1204,   326,   787,   262,  1263,  1243,  2861,   340,\n",
       "            13,   383,  1243,   345,   466,   329,  1854,    11,   262,   661,\n",
       "           345,  1826,    11,   290,   262,  6461,   345,   423,  1863,   262,\n",
       "           835,    13,   921,   836,   470,   423,   284,   307,  5863,   393,\n",
       "          5527,   284,   423,   257,  1049,  1204,    11,   475,   852,  2695,\n",
       "           351,   508,   345,   389,   290,   644,   345,  1053,  1392,  1016,\n",
       "           329,   345,   318,   262,  1266,   835,   284,  3067,   262,   995,\n",
       "           290,   787,   257,  3580,   287,   262,  3160,   286,  1854,    13]])"
      ]
     },
     "execution_count": 7,
     "metadata": {},
     "output_type": "execute_result"
    }
   ],
   "source": [
    "output"
   ]
  },
  {
   "cell_type": "code",
   "execution_count": 15,
   "metadata": {},
   "outputs": [
    {
     "name": "stdout",
     "output_type": "stream",
     "text": [
      "tensor(2061)\n",
      "What\n"
     ]
    }
   ],
   "source": [
    "# Decode example\n",
    "print(output[0][0]) # in tensor form\n",
    "print(tokenizer.decode(output[0][0])) # decoded"
   ]
  },
  {
   "cell_type": "code",
   "execution_count": 9,
   "metadata": {},
   "outputs": [
    {
     "name": "stdout",
     "output_type": "stream",
     "text": [
      "What is life?\n",
      "\n",
      "Life is a journey, not a destination. It's about the little things in life that make the big things worth it. The things you do for others, the people you meet, and the experiences you have along the way. You don't have to be famous or rich to have a great life, but being content with who you are and what you've got going for you is the best way to travel the world and make a difference in the lives of others.\n"
     ]
    }
   ],
   "source": [
    "# Output Result\n",
    "text = tokenizer.decode(output[0], skip_special_tokens=True)\n",
    "print(text)"
   ]
  },
  {
   "cell_type": "code",
   "execution_count": null,
   "metadata": {},
   "outputs": [],
   "source": []
  }
 ],
 "metadata": {
  "kernelspec": {
   "display_name": "venv",
   "language": "python",
   "name": "python3"
  },
  "language_info": {
   "codemirror_mode": {
    "name": "ipython",
    "version": 3
   },
   "file_extension": ".py",
   "mimetype": "text/x-python",
   "name": "python",
   "nbconvert_exporter": "python",
   "pygments_lexer": "ipython3",
   "version": "3.10.6"
  },
  "orig_nbformat": 4
 },
 "nbformat": 4,
 "nbformat_minor": 2
}
